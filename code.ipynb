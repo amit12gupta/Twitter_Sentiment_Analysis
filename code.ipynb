{
 "cells": [
  {
   "cell_type": "code",
   "execution_count": 15,
   "metadata": {},
   "outputs": [],
   "source": [
    "import pandas as pd\n",
    "import numpy as np\n",
    "import matplotlib.pyplot as plt\n",
    "%matplotlib inline\n",
    "\n",
    "import re, nltk\n",
    "from nltk.stem import WordNetLemmatizer\n",
    "from nltk.corpus import stopwords\n",
    "stop_words = set(stopwords.words('english'))\n",
    "wordnet_lemmatizer = WordNetLemmatizer()"
   ]
  },
  {
   "cell_type": "code",
   "execution_count": 2,
   "metadata": {},
   "outputs": [],
   "source": [
    "df = pd.read_csv(\"Tweets.csv\")"
   ]
  },
  {
   "cell_type": "code",
   "execution_count": 3,
   "metadata": {},
   "outputs": [
    {
     "data": {
      "text/html": [
       "<div>\n",
       "<style scoped>\n",
       "    .dataframe tbody tr th:only-of-type {\n",
       "        vertical-align: middle;\n",
       "    }\n",
       "\n",
       "    .dataframe tbody tr th {\n",
       "        vertical-align: top;\n",
       "    }\n",
       "\n",
       "    .dataframe thead th {\n",
       "        text-align: right;\n",
       "    }\n",
       "</style>\n",
       "<table border=\"1\" class=\"dataframe\">\n",
       "  <thead>\n",
       "    <tr style=\"text-align: right;\">\n",
       "      <th></th>\n",
       "      <th>tweet_id</th>\n",
       "      <th>airline_sentiment</th>\n",
       "      <th>airline_sentiment_confidence</th>\n",
       "      <th>negativereason</th>\n",
       "      <th>negativereason_confidence</th>\n",
       "      <th>airline</th>\n",
       "      <th>airline_sentiment_gold</th>\n",
       "      <th>name</th>\n",
       "      <th>negativereason_gold</th>\n",
       "      <th>retweet_count</th>\n",
       "      <th>text</th>\n",
       "      <th>tweet_coord</th>\n",
       "      <th>tweet_created</th>\n",
       "      <th>tweet_location</th>\n",
       "      <th>user_timezone</th>\n",
       "    </tr>\n",
       "  </thead>\n",
       "  <tbody>\n",
       "    <tr>\n",
       "      <th>0</th>\n",
       "      <td>570306133677760513</td>\n",
       "      <td>neutral</td>\n",
       "      <td>1.0000</td>\n",
       "      <td>NaN</td>\n",
       "      <td>NaN</td>\n",
       "      <td>Virgin America</td>\n",
       "      <td>NaN</td>\n",
       "      <td>cairdin</td>\n",
       "      <td>NaN</td>\n",
       "      <td>0</td>\n",
       "      <td>@VirginAmerica What @dhepburn said.</td>\n",
       "      <td>NaN</td>\n",
       "      <td>2015-02-24 11:35:52 -0800</td>\n",
       "      <td>NaN</td>\n",
       "      <td>Eastern Time (US &amp; Canada)</td>\n",
       "    </tr>\n",
       "    <tr>\n",
       "      <th>1</th>\n",
       "      <td>570301130888122368</td>\n",
       "      <td>positive</td>\n",
       "      <td>0.3486</td>\n",
       "      <td>NaN</td>\n",
       "      <td>0.0000</td>\n",
       "      <td>Virgin America</td>\n",
       "      <td>NaN</td>\n",
       "      <td>jnardino</td>\n",
       "      <td>NaN</td>\n",
       "      <td>0</td>\n",
       "      <td>@VirginAmerica plus you've added commercials t...</td>\n",
       "      <td>NaN</td>\n",
       "      <td>2015-02-24 11:15:59 -0800</td>\n",
       "      <td>NaN</td>\n",
       "      <td>Pacific Time (US &amp; Canada)</td>\n",
       "    </tr>\n",
       "    <tr>\n",
       "      <th>2</th>\n",
       "      <td>570301083672813571</td>\n",
       "      <td>neutral</td>\n",
       "      <td>0.6837</td>\n",
       "      <td>NaN</td>\n",
       "      <td>NaN</td>\n",
       "      <td>Virgin America</td>\n",
       "      <td>NaN</td>\n",
       "      <td>yvonnalynn</td>\n",
       "      <td>NaN</td>\n",
       "      <td>0</td>\n",
       "      <td>@VirginAmerica I didn't today... Must mean I n...</td>\n",
       "      <td>NaN</td>\n",
       "      <td>2015-02-24 11:15:48 -0800</td>\n",
       "      <td>Lets Play</td>\n",
       "      <td>Central Time (US &amp; Canada)</td>\n",
       "    </tr>\n",
       "    <tr>\n",
       "      <th>3</th>\n",
       "      <td>570301031407624196</td>\n",
       "      <td>negative</td>\n",
       "      <td>1.0000</td>\n",
       "      <td>Bad Flight</td>\n",
       "      <td>0.7033</td>\n",
       "      <td>Virgin America</td>\n",
       "      <td>NaN</td>\n",
       "      <td>jnardino</td>\n",
       "      <td>NaN</td>\n",
       "      <td>0</td>\n",
       "      <td>@VirginAmerica it's really aggressive to blast...</td>\n",
       "      <td>NaN</td>\n",
       "      <td>2015-02-24 11:15:36 -0800</td>\n",
       "      <td>NaN</td>\n",
       "      <td>Pacific Time (US &amp; Canada)</td>\n",
       "    </tr>\n",
       "    <tr>\n",
       "      <th>4</th>\n",
       "      <td>570300817074462722</td>\n",
       "      <td>negative</td>\n",
       "      <td>1.0000</td>\n",
       "      <td>Can't Tell</td>\n",
       "      <td>1.0000</td>\n",
       "      <td>Virgin America</td>\n",
       "      <td>NaN</td>\n",
       "      <td>jnardino</td>\n",
       "      <td>NaN</td>\n",
       "      <td>0</td>\n",
       "      <td>@VirginAmerica and it's a really big bad thing...</td>\n",
       "      <td>NaN</td>\n",
       "      <td>2015-02-24 11:14:45 -0800</td>\n",
       "      <td>NaN</td>\n",
       "      <td>Pacific Time (US &amp; Canada)</td>\n",
       "    </tr>\n",
       "  </tbody>\n",
       "</table>\n",
       "</div>"
      ],
      "text/plain": [
       "             tweet_id airline_sentiment  airline_sentiment_confidence  \\\n",
       "0  570306133677760513           neutral                        1.0000   \n",
       "1  570301130888122368          positive                        0.3486   \n",
       "2  570301083672813571           neutral                        0.6837   \n",
       "3  570301031407624196          negative                        1.0000   \n",
       "4  570300817074462722          negative                        1.0000   \n",
       "\n",
       "  negativereason  negativereason_confidence         airline  \\\n",
       "0            NaN                        NaN  Virgin America   \n",
       "1            NaN                     0.0000  Virgin America   \n",
       "2            NaN                        NaN  Virgin America   \n",
       "3     Bad Flight                     0.7033  Virgin America   \n",
       "4     Can't Tell                     1.0000  Virgin America   \n",
       "\n",
       "  airline_sentiment_gold        name negativereason_gold  retweet_count  \\\n",
       "0                    NaN     cairdin                 NaN              0   \n",
       "1                    NaN    jnardino                 NaN              0   \n",
       "2                    NaN  yvonnalynn                 NaN              0   \n",
       "3                    NaN    jnardino                 NaN              0   \n",
       "4                    NaN    jnardino                 NaN              0   \n",
       "\n",
       "                                                text tweet_coord  \\\n",
       "0                @VirginAmerica What @dhepburn said.         NaN   \n",
       "1  @VirginAmerica plus you've added commercials t...         NaN   \n",
       "2  @VirginAmerica I didn't today... Must mean I n...         NaN   \n",
       "3  @VirginAmerica it's really aggressive to blast...         NaN   \n",
       "4  @VirginAmerica and it's a really big bad thing...         NaN   \n",
       "\n",
       "               tweet_created tweet_location               user_timezone  \n",
       "0  2015-02-24 11:35:52 -0800            NaN  Eastern Time (US & Canada)  \n",
       "1  2015-02-24 11:15:59 -0800            NaN  Pacific Time (US & Canada)  \n",
       "2  2015-02-24 11:15:48 -0800      Lets Play  Central Time (US & Canada)  \n",
       "3  2015-02-24 11:15:36 -0800            NaN  Pacific Time (US & Canada)  \n",
       "4  2015-02-24 11:14:45 -0800            NaN  Pacific Time (US & Canada)  "
      ]
     },
     "execution_count": 3,
     "metadata": {},
     "output_type": "execute_result"
    }
   ],
   "source": [
    "df.head()"
   ]
  },
  {
   "cell_type": "code",
   "execution_count": 4,
   "metadata": {},
   "outputs": [
    {
     "name": "stdout",
     "output_type": "stream",
     "text": [
      "(14640, 15)\n"
     ]
    }
   ],
   "source": [
    "print(df.shape)"
   ]
  },
  {
   "cell_type": "code",
   "execution_count": 7,
   "metadata": {},
   "outputs": [
    {
     "data": {
      "text/plain": [
       "Text(0.5, 1.0, 'Events Distribution')"
      ]
     },
     "execution_count": 7,
     "metadata": {},
     "output_type": "execute_result"
    },
    {
     "data": {
      "image/png": "[encoded data removed]",
      "text/plain": [
       "<Figure size 432x288 with 1 Axes>"
      ]
     },
     "metadata": {
      "needs_background": "light"
     },
     "output_type": "display_data"
    }
   ],
   "source": [
    "index = [1,2,3]\n",
    "plt.bar(index, df['airline_sentiment'].value_counts(), color=['r','b','g'])\n",
    "plt.xticks(index,['Negative','Neutral','Positive'])\n",
    "plt.xlabel('Events')\n",
    "plt.ylabel('Frequency')\n",
    "plt.title('Events Distribution')"
   ]
  },
  {
   "cell_type": "code",
   "execution_count": 8,
   "metadata": {},
   "outputs": [
    {
     "data": {
      "image/png": "[encoded data removed]",
      "text/plain": [
       "<Figure size 432x288 with 1 Axes>"
      ]
     },
     "metadata": {
      "needs_background": "light"
     },
     "output_type": "display_data"
    }
   ],
   "source": [
    "Airline_count = df['airline'].sort_index().value_counts()\n",
    "Airline_count.plot(kind='bar', rot=45)\n",
    "plt.show()"
   ]
  },
  {
   "cell_type": "code",
   "execution_count": 10,
   "metadata": {},
   "outputs": [
    {
     "data": {
      "image/png": "[encoded data removed]",
      "text/plain": [
       "<Figure size 864x864 with 6 Axes>"
      ]
     },
     "metadata": {
      "needs_background": "light"
     },
     "output_type": "display_data"
    }
   ],
   "source": [
    "def plot_sub_sentiment(Airline):\n",
    "    pdf = df[df['airline']==Airline]\n",
    "    count = pdf['airline_sentiment'].value_counts()\n",
    "    Index = [1,2,3]\n",
    "    color = ['red','blue','green']\n",
    "    plt.bar(Index,count,width=0.5,color=color)\n",
    "    plt.xticks(Index,['Negative','Neutral','Positive'])\n",
    "    plt.title('Summary of' + \" \" + Airline)\n",
    "\n",
    "airline_name = df['airline'].unique()\n",
    "plt.figure(1,figsize=(12,12))\n",
    "\n",
    "for i in range(6):\n",
    "    plt.subplot(3,2,i+1)\n",
    "    plot_sub_sentiment(airline_name[i])\n",
    "plt.show()"
   ]
  },
  {
   "cell_type": "code",
   "execution_count": 12,
   "metadata": {},
   "outputs": [],
   "source": [
    "NR_Count = dict(df['negativereason'].value_counts(sort=False))\n",
    "\n",
    "def NR_Count(Airline):\n",
    "    if Airline=='All':\n",
    "        NR_df=df\n",
    "    else:\n",
    "        NR_df=df[df['airline']==Airline]\n",
    "    count=dict(NR_df['negativereason'].value_counts())\n",
    "    Unique_reason=list(df['negativereason'].unique())\n",
    "    Unique_reason=[x for x in Unique_reason if str(x) != 'nan']\n",
    "    Reason_frame=pd.DataFrame({'Reasons':Unique_reason})\n",
    "    Reason_frame['count']=Reason_frame['Reasons'].apply(lambda x: count[x])\n",
    "    return Reason_frame\n",
    "\n",
    "def plot_reason(Airline):\n",
    "    NR_df=NR_Count(Airline)\n",
    "    count=NR_df['count']\n",
    "    Index = range(1,(len(NR_df)+1))\n",
    "    plt.bar(Index,count)\n",
    "    plt.xticks(Index,NR_df['Reasons'],rotation=90)\n",
    "    plt.ylabel('Count')\n",
    "    plt.xlabel('Reason')\n",
    "    plt.title('Count of Reasons for '+Airline)"
   ]
  },
  {
   "cell_type": "code",
   "execution_count": 13,
   "metadata": {},
   "outputs": [
    {
     "data": {
      "image/png": "[encoded data removed]",
      "text/plain": [
       "<Figure size 432x288 with 1 Axes>"
      ]
     },
     "metadata": {
      "needs_background": "light"
     },
     "output_type": "display_data"
    }
   ],
   "source": [
    "plot_reason('All')\n",
    "plt.show()"
   ]
  },
  {
   "cell_type": "code",
   "execution_count": 14,
   "metadata": {},
   "outputs": [
    {
     "data": {
      "image/png": "[encoded data removed]",
      "text/plain": [
       "<Figure size 864x2592 with 6 Axes>"
      ]
     },
     "metadata": {
      "needs_background": "light"
     },
     "output_type": "display_data"
    }
   ],
   "source": [
    "airline_names = df['airline'].unique()\n",
    "plt.figure(1,figsize=(12,36))\n",
    "for i in range(0,6):\n",
    "    plt.subplot(3,2,i+1)\n",
    "    plot_reason(airline_names[i])\n",
    "    plt.xlabel('')\n",
    "    plt.ylim(0,800)\n",
    "plt.show()"
   ]
  },
  {
   "cell_type": "code",
   "execution_count": 16,
   "metadata": {},
   "outputs": [],
   "source": [
    "def normalizer(tweet):\n",
    "    only_letters = re.sub(\"[^a-zA-Z]\", \" \",tweet) \n",
    "    tokens = nltk.word_tokenize(only_letters)[2:]\n",
    "    lower_case = [l.lower() for l in tokens]\n",
    "    filtered_result = list(filter(lambda l: l not in stop_words, lower_case))\n",
    "    lemmas = [wordnet_lemmatizer.lemmatize(t) for t in filtered_result]\n",
    "    return lemmas"
   ]
  },
  {
   "cell_type": "code",
   "execution_count": 19,
   "metadata": {},
   "outputs": [
    {
     "data": {
      "text/html": [
       "<div>\n",
       "<style scoped>\n",
       "    .dataframe tbody tr th:only-of-type {\n",
       "        vertical-align: middle;\n",
       "    }\n",
       "\n",
       "    .dataframe tbody tr th {\n",
       "        vertical-align: top;\n",
       "    }\n",
       "\n",
       "    .dataframe thead th {\n",
       "        text-align: right;\n",
       "    }\n",
       "</style>\n",
       "<table border=\"1\" class=\"dataframe\">\n",
       "  <thead>\n",
       "    <tr style=\"text-align: right;\">\n",
       "      <th></th>\n",
       "      <th>text</th>\n",
       "      <th>normalized_tweet</th>\n",
       "    </tr>\n",
       "  </thead>\n",
       "  <tbody>\n",
       "    <tr>\n",
       "      <th>0</th>\n",
       "      <td>@VirginAmerica What @dhepburn said.</td>\n",
       "      <td>[dhepburn, said]</td>\n",
       "    </tr>\n",
       "    <tr>\n",
       "      <th>1</th>\n",
       "      <td>@VirginAmerica plus you've added commercials to the experience... tacky.</td>\n",
       "      <td>[added, commercial, experience, tacky]</td>\n",
       "    </tr>\n",
       "    <tr>\n",
       "      <th>2</th>\n",
       "      <td>@VirginAmerica I didn't today... Must mean I need to take another trip!</td>\n",
       "      <td>[today, must, mean, need, take, another, trip]</td>\n",
       "    </tr>\n",
       "    <tr>\n",
       "      <th>3</th>\n",
       "      <td>@VirginAmerica it's really aggressive to blast obnoxious \"entertainment\" in your guests' faces &amp;amp; they have little recourse</td>\n",
       "      <td>[really, aggressive, blast, obnoxious, entertainment, guest, face, amp, little, recourse]</td>\n",
       "    </tr>\n",
       "    <tr>\n",
       "      <th>4</th>\n",
       "      <td>@VirginAmerica and it's a really big bad thing about it</td>\n",
       "      <td>[really, big, bad, thing]</td>\n",
       "    </tr>\n",
       "  </tbody>\n",
       "</table>\n",
       "</div>"
      ],
      "text/plain": [
       "                                                                                                                             text  \\\n",
       "0  @VirginAmerica What @dhepburn said.                                                                                              \n",
       "1  @VirginAmerica plus you've added commercials to the experience... tacky.                                                         \n",
       "2  @VirginAmerica I didn't today... Must mean I need to take another trip!                                                          \n",
       "3  @VirginAmerica it's really aggressive to blast obnoxious \"entertainment\" in your guests' faces &amp; they have little recourse   \n",
       "4  @VirginAmerica and it's a really big bad thing about it                                                                          \n",
       "\n",
       "                                                                            normalized_tweet  \n",
       "0  [dhepburn, said]                                                                           \n",
       "1  [added, commercial, experience, tacky]                                                     \n",
       "2  [today, must, mean, need, take, another, trip]                                             \n",
       "3  [really, aggressive, blast, obnoxious, entertainment, guest, face, amp, little, recourse]  \n",
       "4  [really, big, bad, thing]                                                                  "
      ]
     },
     "execution_count": 19,
     "metadata": {},
     "output_type": "execute_result"
    }
   ],
   "source": [
    "pd.set_option('display.max_colwidth', -1) \n",
    "df['normalized_tweet'] = df.text.apply(normalizer)\n",
    "df[['text','normalized_tweet']].head()"
   ]
  },
  {
   "cell_type": "code",
   "execution_count": 21,
   "metadata": {},
   "outputs": [
    {
     "data": {
      "text/html": [
       "<div>\n",
       "<style scoped>\n",
       "    .dataframe tbody tr th:only-of-type {\n",
       "        vertical-align: middle;\n",
       "    }\n",
       "\n",
       "    .dataframe tbody tr th {\n",
       "        vertical-align: top;\n",
       "    }\n",
       "\n",
       "    .dataframe thead th {\n",
       "        text-align: right;\n",
       "    }\n",
       "</style>\n",
       "<table border=\"1\" class=\"dataframe\">\n",
       "  <thead>\n",
       "    <tr style=\"text-align: right;\">\n",
       "      <th></th>\n",
       "      <th>grams</th>\n",
       "    </tr>\n",
       "  </thead>\n",
       "  <tbody>\n",
       "    <tr>\n",
       "      <th>0</th>\n",
       "      <td>[dhepburn said]</td>\n",
       "    </tr>\n",
       "    <tr>\n",
       "      <th>1</th>\n",
       "      <td>[added commercial, commercial experience, experience tacky, added commercial experience, commercial experience tacky]</td>\n",
       "    </tr>\n",
       "    <tr>\n",
       "      <th>2</th>\n",
       "      <td>[today must, must mean, mean need, need take, take another, another trip, today must mean, must mean need, mean need take, need take another, take another trip]</td>\n",
       "    </tr>\n",
       "    <tr>\n",
       "      <th>3</th>\n",
       "      <td>[really aggressive, aggressive blast, blast obnoxious, obnoxious entertainment, entertainment guest, guest face, face amp, amp little, little recourse, really aggressive blast, aggressive blast obnoxious, blast obnoxious entertainment, obnoxious entertainment guest, entertainment guest face, guest face amp, face amp little, amp little recourse]</td>\n",
       "    </tr>\n",
       "    <tr>\n",
       "      <th>4</th>\n",
       "      <td>[really big, big bad, bad thing, really big bad, big bad thing]</td>\n",
       "    </tr>\n",
       "  </tbody>\n",
       "</table>\n",
       "</div>"
      ],
      "text/plain": [
       "                                                                                                                                                                                                                                                                                                                                                        grams\n",
       "0  [dhepburn said]                                                                                                                                                                                                                                                                                                                                           \n",
       "1  [added commercial, commercial experience, experience tacky, added commercial experience, commercial experience tacky]                                                                                                                                                                                                                                     \n",
       "2  [today must, must mean, mean need, need take, take another, another trip, today must mean, must mean need, mean need take, need take another, take another trip]                                                                                                                                                                                          \n",
       "3  [really aggressive, aggressive blast, blast obnoxious, obnoxious entertainment, entertainment guest, guest face, face amp, amp little, little recourse, really aggressive blast, aggressive blast obnoxious, blast obnoxious entertainment, obnoxious entertainment guest, entertainment guest face, guest face amp, face amp little, amp little recourse]\n",
       "4  [really big, big bad, bad thing, really big bad, big bad thing]                                                                                                                                                                                                                                                                                           "
      ]
     },
     "execution_count": 21,
     "metadata": {},
     "output_type": "execute_result"
    }
   ],
   "source": [
    "from nltk import ngrams\n",
    "def ngrams(input_list):\n",
    "    #onegrams = input_list\n",
    "    bigrams = [' '.join(t) for t in list(zip(input_list, input_list[1:]))]\n",
    "    trigrams = [' '.join(t) for t in list(zip(input_list, input_list[1:], input_list[2:]))]\n",
    "    return bigrams+trigrams\n",
    "df['grams'] = df.normalized_tweet.apply(ngrams)\n",
    "df[['grams']].head()"
   ]
  },
  {
   "cell_type": "code",
   "execution_count": 22,
   "metadata": {},
   "outputs": [],
   "source": [
    "import collections\n",
    "def count_words(input):\n",
    "    cnt = collections.Counter()\n",
    "    for row in input:\n",
    "        for word in row:\n",
    "            cnt[word] += 1\n",
    "    return cnt"
   ]
  },
  {
   "cell_type": "code",
   "execution_count": 24,
   "metadata": {},
   "outputs": [
    {
     "data": {
      "text/plain": [
       "[('http co', 449),\n",
       " ('customer service', 438),\n",
       " ('cancelled flightled', 425),\n",
       " ('late flight', 215),\n",
       " ('cancelled flighted', 196),\n",
       " ('flight cancelled', 185),\n",
       " ('late flightr', 144),\n",
       " ('cancelled flight', 131),\n",
       " ('hold hour', 128),\n",
       " ('flightled flight', 123),\n",
       " ('flight cancelled flightled', 117),\n",
       " ('flight delayed', 115),\n",
       " ('cancelled flightled flight', 107),\n",
       " ('call back', 106),\n",
       " ('booking problem', 98),\n",
       " ('gate agent', 83),\n",
       " ('flight flight', 74),\n",
       " ('hour late', 69),\n",
       " ('delayed flight', 69),\n",
       " ('flight attendant', 60)]"
      ]
     },
     "execution_count": 24,
     "metadata": {},
     "output_type": "execute_result"
    }
   ],
   "source": [
    "df[(df.airline_sentiment == 'negative')][['grams']].apply(count_words)['grams'].most_common(20)"
   ]
  },
  {
   "cell_type": "code",
   "execution_count": 26,
   "metadata": {},
   "outputs": [],
   "source": [
    "from scipy.sparse import hstack\n",
    "from sklearn.feature_extraction.text import CountVectorizer\n",
    "count_vectorizer = CountVectorizer(ngram_range=(1,2))"
   ]
  },
  {
   "cell_type": "code",
   "execution_count": 27,
   "metadata": {},
   "outputs": [],
   "source": [
    "vectorized_data = count_vectorizer.fit_transform(df.text)\n",
    "indexed_data = hstack((np.array(range(0,vectorized_data.shape[0]))[:,None], vectorized_data))"
   ]
  },
  {
   "cell_type": "code",
   "execution_count": 34,
   "metadata": {},
   "outputs": [
    {
     "data": {
      "text/html": [
       "<div>\n",
       "<style scoped>\n",
       "    .dataframe tbody tr th:only-of-type {\n",
       "        vertical-align: middle;\n",
       "    }\n",
       "\n",
       "    .dataframe tbody tr th {\n",
       "        vertical-align: top;\n",
       "    }\n",
       "\n",
       "    .dataframe thead th {\n",
       "        text-align: right;\n",
       "    }\n",
       "</style>\n",
       "<table border=\"1\" class=\"dataframe\">\n",
       "  <thead>\n",
       "    <tr style=\"text-align: right;\">\n",
       "      <th></th>\n",
       "      <th>tweet_id</th>\n",
       "      <th>airline_sentiment</th>\n",
       "      <th>airline_sentiment_confidence</th>\n",
       "      <th>negativereason</th>\n",
       "      <th>negativereason_confidence</th>\n",
       "      <th>airline</th>\n",
       "      <th>airline_sentiment_gold</th>\n",
       "      <th>name</th>\n",
       "      <th>negativereason_gold</th>\n",
       "      <th>retweet_count</th>\n",
       "      <th>text</th>\n",
       "      <th>tweet_coord</th>\n",
       "      <th>tweet_created</th>\n",
       "      <th>tweet_location</th>\n",
       "      <th>user_timezone</th>\n",
       "      <th>normalized_tweet</th>\n",
       "      <th>grams</th>\n",
       "    </tr>\n",
       "  </thead>\n",
       "  <tbody>\n",
       "    <tr>\n",
       "      <th>0</th>\n",
       "      <td>570306133677760513</td>\n",
       "      <td>neutral</td>\n",
       "      <td>1.0000</td>\n",
       "      <td>NaN</td>\n",
       "      <td>NaN</td>\n",
       "      <td>Virgin America</td>\n",
       "      <td>NaN</td>\n",
       "      <td>cairdin</td>\n",
       "      <td>NaN</td>\n",
       "      <td>0</td>\n",
       "      <td>@VirginAmerica What @dhepburn said.</td>\n",
       "      <td>NaN</td>\n",
       "      <td>2015-02-24 11:35:52 -0800</td>\n",
       "      <td>NaN</td>\n",
       "      <td>Eastern Time (US &amp; Canada)</td>\n",
       "      <td>[dhepburn, said]</td>\n",
       "      <td>[dhepburn said]</td>\n",
       "    </tr>\n",
       "    <tr>\n",
       "      <th>1</th>\n",
       "      <td>570301130888122368</td>\n",
       "      <td>positive</td>\n",
       "      <td>0.3486</td>\n",
       "      <td>NaN</td>\n",
       "      <td>0.0</td>\n",
       "      <td>Virgin America</td>\n",
       "      <td>NaN</td>\n",
       "      <td>jnardino</td>\n",
       "      <td>NaN</td>\n",
       "      <td>0</td>\n",
       "      <td>@VirginAmerica plus you've added commercials to the experience... tacky.</td>\n",
       "      <td>NaN</td>\n",
       "      <td>2015-02-24 11:15:59 -0800</td>\n",
       "      <td>NaN</td>\n",
       "      <td>Pacific Time (US &amp; Canada)</td>\n",
       "      <td>[added, commercial, experience, tacky]</td>\n",
       "      <td>[added commercial, commercial experience, experience tacky, added commercial experience, commercial experience tacky]</td>\n",
       "    </tr>\n",
       "  </tbody>\n",
       "</table>\n",
       "</div>"
      ],
      "text/plain": [
       "             tweet_id airline_sentiment  airline_sentiment_confidence  \\\n",
       "0  570306133677760513  neutral           1.0000                         \n",
       "1  570301130888122368  positive          0.3486                         \n",
       "\n",
       "  negativereason  negativereason_confidence         airline  \\\n",
       "0  NaN           NaN                         Virgin America   \n",
       "1  NaN            0.0                        Virgin America   \n",
       "\n",
       "  airline_sentiment_gold      name negativereason_gold  retweet_count  \\\n",
       "0  NaN                    cairdin   NaN                 0               \n",
       "1  NaN                    jnardino  NaN                 0               \n",
       "\n",
       "                                                                       text  \\\n",
       "0  @VirginAmerica What @dhepburn said.                                        \n",
       "1  @VirginAmerica plus you've added commercials to the experience... tacky.   \n",
       "\n",
       "  tweet_coord              tweet_created tweet_location  \\\n",
       "0  NaN         2015-02-24 11:35:52 -0800  NaN             \n",
       "1  NaN         2015-02-24 11:15:59 -0800  NaN             \n",
       "\n",
       "                user_timezone                        normalized_tweet  \\\n",
       "0  Eastern Time (US & Canada)  [dhepburn, said]                         \n",
       "1  Pacific Time (US & Canada)  [added, commercial, experience, tacky]   \n",
       "\n",
       "                                                                                                                   grams  \n",
       "0  [dhepburn said]                                                                                                        \n",
       "1  [added commercial, commercial experience, experience tacky, added commercial experience, commercial experience tacky]  "
      ]
     },
     "execution_count": 34,
     "metadata": {},
     "output_type": "execute_result"
    }
   ],
   "source": [
    "df.head(2)"
   ]
  },
  {
   "cell_type": "code",
   "execution_count": 28,
   "metadata": {},
   "outputs": [],
   "source": [
    "def sentiment2target(sentiment):\n",
    "    return {\n",
    "        'negative': 0,\n",
    "        'neutral': 1,\n",
    "        'positive' : 2\n",
    "    }[sentiment]\n",
    "targets = df.airline_sentiment.apply(sentiment2target)"
   ]
  },
  {
   "cell_type": "code",
   "execution_count": 29,
   "metadata": {},
   "outputs": [],
   "source": [
    "from sklearn.model_selection import train_test_split\n",
    "data_train, data_test, targets_train, targets_test = train_test_split(indexed_data, targets, test_size=0.4, random_state=0)\n",
    "data_train_index = data_train[:,0]\n",
    "data_train = data_train[:,1:]\n",
    "data_test_index = data_test[:,0]\n",
    "data_test = data_test[:,1:]"
   ]
  },
  {
   "cell_type": "code",
   "execution_count": 35,
   "metadata": {},
   "outputs": [],
   "source": [
    "from sklearn import svm\n",
    "from sklearn.multiclass import OneVsRestClassifier\n",
    "clf = OneVsRestClassifier(svm.SVC(gamma=0.01, C=100., probability=True, class_weight='balanced', kernel='linear'))\n",
    "clf_output = clf.fit(data_train, targets_train)"
   ]
  },
  {
   "cell_type": "code",
   "execution_count": 36,
   "metadata": {},
   "outputs": [
    {
     "data": {
      "text/plain": [
       "0.7851775956284153"
      ]
     },
     "execution_count": 36,
     "metadata": {},
     "output_type": "execute_result"
    }
   ],
   "source": [
    "clf.score(data_test, targets_test)"
   ]
  },
  {
   "cell_type": "code",
   "execution_count": 40,
   "metadata": {},
   "outputs": [
    {
     "data": {
      "text/plain": [
       "array([[0.20459395, 0.05793439, 0.73747166],\n",
       "       [0.13630858, 0.07014819, 0.79354323],\n",
       "       [0.9438463 , 0.03923604, 0.01691766],\n",
       "       [0.89226546, 0.07137224, 0.0363623 ],\n",
       "       [0.97416608, 0.01692252, 0.0089114 ],\n",
       "       [0.46901121, 0.5005041 , 0.03048469],\n",
       "       [0.26204434, 0.52305198, 0.21490368]])"
      ]
     },
     "execution_count": 40,
     "metadata": {},
     "output_type": "execute_result"
    }
   ],
   "source": [
    "sentences = count_vectorizer.transform([\n",
    "    \"What a great airline, the trip was a pleasure!\",\n",
    "    \"My issue was quickly resolved after calling customer support. Thanks!\",\n",
    "    \"What the hell! My flight was cancelled again. This sucks!\",\n",
    "    \"Service was awful. I'll never fly with you again.\",\n",
    "    \"You fuckers lost my luggage. Never again!\",\n",
    "    \"I have mixed feelings about airlines. I don't know what I think.\",\n",
    "    \"\"\n",
    "])\n",
    "clf.predict_proba(sentences)"
   ]
  },
  {
   "cell_type": "code",
   "execution_count": 41,
   "metadata": {},
   "outputs": [
    {
     "name": "stderr",
     "output_type": "stream",
     "text": [
      "Using TensorFlow backend.\n"
     ]
    }
   ],
   "source": [
    "# Lets try deep learning\n",
    "# Packages for data preparation\n",
    "from sklearn.model_selection import train_test_split\n",
    "from nltk.corpus import stopwords\n",
    "from keras.preprocessing.text import Tokenizer\n",
    "from keras.utils.np_utils import to_categorical\n",
    "from sklearn.preprocessing import LabelEncoder\n",
    "\n",
    "# Packages for modeling\n",
    "from keras import models\n",
    "from keras import layers\n",
    "from keras import regularizers"
   ]
  },
  {
   "cell_type": "code",
   "execution_count": 42,
   "metadata": {},
   "outputs": [],
   "source": [
    "NB_WORDS = 10000  # Parameter indicating the number of words we'll put in the dictionary\n",
    "VAL_SIZE = 1000  # Size of the validation set\n",
    "NB_START_EPOCHS = 20  # Number of epochs we usually start to train with\n",
    "BATCH_SIZE = 512  # Size of the batches used in the mini-batch gradient descent"
   ]
  },
  {
   "cell_type": "code",
   "execution_count": 43,
   "metadata": {},
   "outputs": [
    {
     "data": {
      "text/html": [
       "<div>\n",
       "<style scoped>\n",
       "    .dataframe tbody tr th:only-of-type {\n",
       "        vertical-align: middle;\n",
       "    }\n",
       "\n",
       "    .dataframe tbody tr th {\n",
       "        vertical-align: top;\n",
       "    }\n",
       "\n",
       "    .dataframe thead th {\n",
       "        text-align: right;\n",
       "    }\n",
       "</style>\n",
       "<table border=\"1\" class=\"dataframe\">\n",
       "  <thead>\n",
       "    <tr style=\"text-align: right;\">\n",
       "      <th></th>\n",
       "      <th>text</th>\n",
       "      <th>airline_sentiment</th>\n",
       "    </tr>\n",
       "  </thead>\n",
       "  <tbody>\n",
       "    <tr>\n",
       "      <th>0</th>\n",
       "      <td>@VirginAmerica What @dhepburn said.</td>\n",
       "      <td>neutral</td>\n",
       "    </tr>\n",
       "    <tr>\n",
       "      <th>1</th>\n",
       "      <td>@VirginAmerica plus you've added commercials to the experience... tacky.</td>\n",
       "      <td>positive</td>\n",
       "    </tr>\n",
       "    <tr>\n",
       "      <th>2</th>\n",
       "      <td>@VirginAmerica I didn't today... Must mean I need to take another trip!</td>\n",
       "      <td>neutral</td>\n",
       "    </tr>\n",
       "    <tr>\n",
       "      <th>3</th>\n",
       "      <td>@VirginAmerica it's really aggressive to blast obnoxious \"entertainment\" in your guests' faces &amp;amp; they have little recourse</td>\n",
       "      <td>negative</td>\n",
       "    </tr>\n",
       "    <tr>\n",
       "      <th>4</th>\n",
       "      <td>@VirginAmerica and it's a really big bad thing about it</td>\n",
       "      <td>negative</td>\n",
       "    </tr>\n",
       "  </tbody>\n",
       "</table>\n",
       "</div>"
      ],
      "text/plain": [
       "                                                                                                                             text  \\\n",
       "0  @VirginAmerica What @dhepburn said.                                                                                              \n",
       "1  @VirginAmerica plus you've added commercials to the experience... tacky.                                                         \n",
       "2  @VirginAmerica I didn't today... Must mean I need to take another trip!                                                          \n",
       "3  @VirginAmerica it's really aggressive to blast obnoxious \"entertainment\" in your guests' faces &amp; they have little recourse   \n",
       "4  @VirginAmerica and it's a really big bad thing about it                                                                          \n",
       "\n",
       "  airline_sentiment  \n",
       "0  neutral           \n",
       "1  positive          \n",
       "2  neutral           \n",
       "3  negative          \n",
       "4  negative          "
      ]
     },
     "execution_count": 43,
     "metadata": {},
     "output_type": "execute_result"
    }
   ],
   "source": [
    "df = df[['text', 'airline_sentiment']]\n",
    "df.head()"
   ]
  },
  {
   "cell_type": "code",
   "execution_count": 45,
   "metadata": {},
   "outputs": [
    {
     "data": {
      "text/html": [
       "<div>\n",
       "<style scoped>\n",
       "    .dataframe tbody tr th:only-of-type {\n",
       "        vertical-align: middle;\n",
       "    }\n",
       "\n",
       "    .dataframe tbody tr th {\n",
       "        vertical-align: top;\n",
       "    }\n",
       "\n",
       "    .dataframe thead th {\n",
       "        text-align: right;\n",
       "    }\n",
       "</style>\n",
       "<table border=\"1\" class=\"dataframe\">\n",
       "  <thead>\n",
       "    <tr style=\"text-align: right;\">\n",
       "      <th></th>\n",
       "      <th>text</th>\n",
       "      <th>airline_sentiment</th>\n",
       "    </tr>\n",
       "  </thead>\n",
       "  <tbody>\n",
       "    <tr>\n",
       "      <th>0</th>\n",
       "      <td>What said.</td>\n",
       "      <td>neutral</td>\n",
       "    </tr>\n",
       "    <tr>\n",
       "      <th>1</th>\n",
       "      <td>plus added commercials experience... tacky.</td>\n",
       "      <td>positive</td>\n",
       "    </tr>\n",
       "    <tr>\n",
       "      <th>2</th>\n",
       "      <td>today... Must mean need take another trip!</td>\n",
       "      <td>neutral</td>\n",
       "    </tr>\n",
       "    <tr>\n",
       "      <th>3</th>\n",
       "      <td>really aggressive blast obnoxious \"entertainment\" guests' faces &amp;amp; little recourse</td>\n",
       "      <td>negative</td>\n",
       "    </tr>\n",
       "    <tr>\n",
       "      <th>4</th>\n",
       "      <td>really big bad thing</td>\n",
       "      <td>negative</td>\n",
       "    </tr>\n",
       "  </tbody>\n",
       "</table>\n",
       "</div>"
      ],
      "text/plain": [
       "                                                                                    text  \\\n",
       "0  What said.                                                                              \n",
       "1  plus added commercials experience... tacky.                                             \n",
       "2  today... Must mean need take another trip!                                              \n",
       "3  really aggressive blast obnoxious \"entertainment\" guests' faces &amp; little recourse   \n",
       "4  really big bad thing                                                                    \n",
       "\n",
       "  airline_sentiment  \n",
       "0  neutral           \n",
       "1  positive          \n",
       "2  neutral           \n",
       "3  negative          \n",
       "4  negative          "
      ]
     },
     "execution_count": 45,
     "metadata": {},
     "output_type": "execute_result"
    }
   ],
   "source": [
    "def remove_stopwords(input_text):\n",
    "        stopwords_list = stopwords.words('english')\n",
    "        # Some words which might indicate a certain sentiment are kept via a whitelist\n",
    "        whitelist = [\"n't\", \"not\", \"no\"]\n",
    "        words = input_text.split() \n",
    "        clean_words = [word for word in words if (word not in stopwords_list or word in whitelist) and len(word) > 1] \n",
    "        return \" \".join(clean_words) \n",
    "    \n",
    "def remove_mentions(input_text):\n",
    "        return re.sub(r'@\\w+', '', input_text)\n",
    "       \n",
    "df.text = df.text.apply(remove_stopwords).apply(remove_mentions)\n",
    "df.head()"
   ]
  },
  {
   "cell_type": "code",
   "execution_count": 46,
   "metadata": {},
   "outputs": [
    {
     "name": "stdout",
     "output_type": "stream",
     "text": [
      "# Train data samples: 13176\n",
      "# Test data samples: 1464\n"
     ]
    }
   ],
   "source": [
    "X_train, X_test, y_train, y_test = train_test_split(df.text, df.airline_sentiment, test_size=0.1, random_state=37)\n",
    "print('# Train data samples:', X_train.shape[0])\n",
    "print('# Test data samples:', X_test.shape[0])\n",
    "assert X_train.shape[0] == y_train.shape[0]\n",
    "assert X_test.shape[0] == y_test.shape[0]"
   ]
  },
  {
   "cell_type": "code",
   "execution_count": 51,
   "metadata": {},
   "outputs": [
    {
     "data": {
      "text/plain": [
       "9709     kind screwed day up, least outbound, save stranding                                          \n",
       "12212    going police dept due sexual assult stewardess allowed occur lack concern                    \n",
       "11438    that's ok, know I'll likely never book                                                       \n",
       "13844    odds bag picked someone not another country? Because says located yet.                       \n",
       "8781     Guys, really bad #fail Someone better call wife back get handled. 203-382-3312 waits hold....\n",
       "Name: text, dtype: object"
      ]
     },
     "execution_count": 51,
     "metadata": {},
     "output_type": "execute_result"
    }
   ],
   "source": [
    "X_train.head()"
   ]
  },
  {
   "cell_type": "code",
   "execution_count": 47,
   "metadata": {},
   "outputs": [
    {
     "name": "stdout",
     "output_type": "stream",
     "text": [
      "Fitted tokenizer on 13176 documents\n",
      "10000 words in dictionary\n",
      "Top 5 most common words are: [('flight', 3540), ('not', 1420), ('no', 1354), ('get', 1220), ('t', 1123)]\n"
     ]
    }
   ],
   "source": [
    "tk = Tokenizer(num_words=NB_WORDS,\n",
    "               filters='!\"#$%&()*+,-./:;<=>?@[\\\\]^_`{|}~\\t\\n',\n",
    "               lower=True,\n",
    "               split=\" \")\n",
    "tk.fit_on_texts(X_train)\n",
    "\n",
    "print('Fitted tokenizer on {} documents'.format(tk.document_count))\n",
    "print('{} words in dictionary'.format(tk.num_words))\n",
    "print('Top 5 most common words are:', collections.Counter(tk.word_counts).most_common(5))"
   ]
  },
  {
   "cell_type": "code",
   "execution_count": 48,
   "metadata": {},
   "outputs": [
    {
     "name": "stdout",
     "output_type": "stream",
     "text": [
      "\"What said.\" is converted into [720, 1025, 56, 213, 321, 1920, 1205, 2892]\n"
     ]
    }
   ],
   "source": [
    "X_train_seq = tk.texts_to_sequences(X_train)\n",
    "X_test_seq = tk.texts_to_sequences(X_test)\n",
    "\n",
    "print('\"{}\" is converted into {}'.format(X_train[0], X_train_seq[0]))"
   ]
  },
  {
   "cell_type": "code",
   "execution_count": 76,
   "metadata": {},
   "outputs": [
    {
     "name": "stdout",
     "output_type": "stream",
     "text": [
      "[[57, 1790, 1254, 103, 3442, 2893, 1384, 736, 4255, 521, 1026], [115, 283, 48, 181, 1157, 58, 154], [3443, 34, 1108, 106, 2, 78, 781, 1109, 191, 1486, 179], [46, 69, 139, 279, 106, 155, 31, 395, 32, 4, 1110, 4256, 4257, 6035, 3444, 19], [322, 78, 1, 334, 156, 2894, 378, 4258, 122, 568], [344, 737, 95, 310, 6036, 6037], [28, 630, 85, 46, 6038], [919, 2099, 2541, 7, 5, 6, 6039], [3, 30, 83, 142, 72, 132, 18, 21, 6040, 4259, 111, 214, 738, 920, 68]]\n"
     ]
    }
   ],
   "source": [
    "print(X_train_seq[1:10])"
   ]
  },
  {
   "cell_type": "code",
   "execution_count": 49,
   "metadata": {},
   "outputs": [
    {
     "name": "stdout",
     "output_type": "stream",
     "text": [
      "\"[720, 1025, 56, 213, 321, 1920, 1205, 2892]\" is converted into [0. 0. 0. ... 0. 0. 0.]\n",
      "For this example we have 8.0 features with a value of 1.\n"
     ]
    }
   ],
   "source": [
    "def one_hot_seq(seqs, nb_features = NB_WORDS):\n",
    "    ohs = np.zeros((len(seqs), nb_features))\n",
    "    for i, s in enumerate(seqs):\n",
    "        ohs[i, s] = 1.\n",
    "    return ohs\n",
    "\n",
    "X_train_oh = one_hot_seq(X_train_seq)\n",
    "X_test_oh = one_hot_seq(X_test_seq)\n",
    "\n",
    "print('\"{}\" is converted into {}'.format(X_train_seq[0], X_train_oh[0]))\n",
    "print('For this example we have {} features with a value of 1.'.format(X_train_oh[0].sum()))"
   ]
  },
  {
   "cell_type": "code",
   "execution_count": 78,
   "metadata": {},
   "outputs": [
    {
     "name": "stdout",
     "output_type": "stream",
     "text": [
      "(13176, 10000)\n"
     ]
    }
   ],
   "source": [
    "print(X_train_oh.shape)"
   ]
  },
  {
   "cell_type": "code",
   "execution_count": 50,
   "metadata": {},
   "outputs": [
    {
     "name": "stdout",
     "output_type": "stream",
     "text": [
      "\"neutral\" is converted into 0\n",
      "\"0\" is converted into [1. 0. 0.]\n"
     ]
    }
   ],
   "source": [
    "le = LabelEncoder()\n",
    "y_train_le = le.fit_transform(y_train)\n",
    "y_test_le = le.transform(y_test)\n",
    "y_train_oh = to_categorical(y_train_le)\n",
    "y_test_oh = to_categorical(y_test_le)\n",
    "\n",
    "print('\"{}\" is converted into {}'.format(y_train[0], y_train_le[0]))\n",
    "print('\"{}\" is converted into {}'.format(y_train_le[0], y_train_oh[0]))"
   ]
  },
  {
   "cell_type": "code",
   "execution_count": 52,
   "metadata": {},
   "outputs": [
    {
     "name": "stdout",
     "output_type": "stream",
     "text": [
      "Shape of validation set: (1318, 10000)\n"
     ]
    }
   ],
   "source": [
    "X_train_rest, X_valid, y_train_rest, y_valid = train_test_split(X_train_oh, y_train_oh, test_size=0.1, random_state=37)\n",
    "\n",
    "assert X_valid.shape[0] == y_valid.shape[0]\n",
    "assert X_train_rest.shape[0] == y_train_rest.shape[0]\n",
    "\n",
    "print('Shape of validation set:',X_valid.shape)"
   ]
  },
  {
   "cell_type": "code",
   "execution_count": 53,
   "metadata": {},
   "outputs": [
    {
     "name": "stdout",
     "output_type": "stream",
     "text": [
      "WARNING:tensorflow:From C:\\Users\\amit.gupta9\\AppData\\Local\\Continuum\\anaconda3\\envs\\img3.6\\lib\\site-packages\\tensorflow\\python\\framework\\op_def_library.py:263: colocate_with (from tensorflow.python.framework.ops) is deprecated and will be removed in a future version.\n",
      "Instructions for updating:\n",
      "Colocations handled automatically by placer.\n",
      "_________________________________________________________________\n",
      "Layer (type)                 Output Shape              Param #   \n",
      "=================================================================\n",
      "dense_1 (Dense)              (None, 64)                640064    \n",
      "_________________________________________________________________\n",
      "dense_2 (Dense)              (None, 64)                4160      \n",
      "_________________________________________________________________\n",
      "dense_3 (Dense)              (None, 3)                 195       \n",
      "=================================================================\n",
      "Total params: 644,419\n",
      "Trainable params: 644,419\n",
      "Non-trainable params: 0\n",
      "_________________________________________________________________\n"
     ]
    }
   ],
   "source": [
    "base_model = models.Sequential()\n",
    "base_model.add(layers.Dense(64, activation='relu', input_shape=(NB_WORDS,)))\n",
    "base_model.add(layers.Dense(64, activation='relu'))\n",
    "base_model.add(layers.Dense(3, activation='softmax'))\n",
    "base_model.summary()"
   ]
  },
  {
   "cell_type": "code",
   "execution_count": 54,
   "metadata": {},
   "outputs": [],
   "source": [
    "def deep_model(model):\n",
    "    model.compile(optimizer='rmsprop'\n",
    "                  , loss='categorical_crossentropy'\n",
    "                  , metrics=['accuracy'])\n",
    "    \n",
    "    history = model.fit(X_train_rest\n",
    "                       , y_train_rest\n",
    "                       , epochs=NB_START_EPOCHS\n",
    "                       , batch_size=BATCH_SIZE\n",
    "                       , validation_data=(X_valid, y_valid)\n",
    "                       , verbose=0)\n",
    "    \n",
    "    return history"
   ]
  },
  {
   "cell_type": "code",
   "execution_count": 55,
   "metadata": {},
   "outputs": [
    {
     "name": "stdout",
     "output_type": "stream",
     "text": [
      "WARNING:tensorflow:From C:\\Users\\amit.gupta9\\AppData\\Local\\Continuum\\anaconda3\\envs\\img3.6\\lib\\site-packages\\tensorflow\\python\\ops\\math_ops.py:3066: to_int32 (from tensorflow.python.ops.math_ops) is deprecated and will be removed in a future version.\n",
      "Instructions for updating:\n",
      "Use tf.cast instead.\n"
     ]
    }
   ],
   "source": [
    "base_history = deep_model(base_model)"
   ]
  },
  {
   "cell_type": "code",
   "execution_count": 56,
   "metadata": {},
   "outputs": [],
   "source": [
    "def eval_metric(history, metric_name):\n",
    "    metric = history.history[metric_name]\n",
    "    val_metric = history.history['val_' + metric_name]\n",
    "\n",
    "    e = range(1, NB_START_EPOCHS + 1)\n",
    "\n",
    "    plt.plot(e, metric, 'bo', label='Train ' + metric_name)\n",
    "    plt.plot(e, val_metric, 'b', label='Validation ' + metric_name)\n",
    "    plt.legend()\n",
    "    plt.show()"
   ]
  },
  {
   "cell_type": "code",
   "execution_count": 57,
   "metadata": {},
   "outputs": [
    {
     "data": {
      "image/png": "[encoded data removed]",
      "text/plain": [
       "<Figure size 432x288 with 1 Axes>"
      ]
     },
     "metadata": {
      "needs_background": "light"
     },
     "output_type": "display_data"
    }
   ],
   "source": [
    "eval_metric(base_history, 'loss')"
   ]
  },
  {
   "cell_type": "code",
   "execution_count": 58,
   "metadata": {},
   "outputs": [
    {
     "data": {
      "image/png": "[encoded data removed]",
      "text/plain": [
       "<Figure size 432x288 with 1 Axes>"
      ]
     },
     "metadata": {
      "needs_background": "light"
     },
     "output_type": "display_data"
    }
   ],
   "source": [
    "eval_metric(base_history, 'acc')"
   ]
  },
  {
   "cell_type": "code",
   "execution_count": 59,
   "metadata": {},
   "outputs": [
    {
     "name": "stdout",
     "output_type": "stream",
     "text": [
      "_________________________________________________________________\n",
      "Layer (type)                 Output Shape              Param #   \n",
      "=================================================================\n",
      "dense_4 (Dense)              (None, 32)                320032    \n",
      "_________________________________________________________________\n",
      "dense_5 (Dense)              (None, 3)                 99        \n",
      "=================================================================\n",
      "Total params: 320,131\n",
      "Trainable params: 320,131\n",
      "Non-trainable params: 0\n",
      "_________________________________________________________________\n"
     ]
    }
   ],
   "source": [
    "reduced_model = models.Sequential()\n",
    "reduced_model.add(layers.Dense(32, activation='relu', input_shape=(NB_WORDS,)))\n",
    "reduced_model.add(layers.Dense(3, activation='softmax'))\n",
    "reduced_model.summary()"
   ]
  },
  {
   "cell_type": "code",
   "execution_count": 60,
   "metadata": {},
   "outputs": [],
   "source": [
    "reduced_history = deep_model(reduced_model)"
   ]
  },
  {
   "cell_type": "code",
   "execution_count": 61,
   "metadata": {},
   "outputs": [],
   "source": [
    "def compare_loss_with_baseline(h, model_name):\n",
    "    loss_base_model = base_history.history['val_loss']\n",
    "    loss_model = h.history['val_loss']\n",
    "\n",
    "    e = range(1, NB_START_EPOCHS + 1)\n",
    "\n",
    "    plt.plot(e, loss_base_model, 'bo', label='Validation Loss Baseline Model')\n",
    "    plt.plot(e, loss_model, 'b', label='Validation Loss ' + model_name)\n",
    "    plt.legend()\n",
    "    plt.show()"
   ]
  },
  {
   "cell_type": "code",
   "execution_count": 62,
   "metadata": {},
   "outputs": [
    {
     "data": {
      "image/png": "[encoded data removed]",
      "text/plain": [
       "<Figure size 432x288 with 1 Axes>"
      ]
     },
     "metadata": {
      "needs_background": "light"
     },
     "output_type": "display_data"
    }
   ],
   "source": [
    "compare_loss_with_baseline(reduced_history, 'Reduced Model')"
   ]
  },
  {
   "cell_type": "code",
   "execution_count": 63,
   "metadata": {},
   "outputs": [
    {
     "name": "stdout",
     "output_type": "stream",
     "text": [
      "_________________________________________________________________\n",
      "Layer (type)                 Output Shape              Param #   \n",
      "=================================================================\n",
      "dense_6 (Dense)              (None, 64)                640064    \n",
      "_________________________________________________________________\n",
      "dense_7 (Dense)              (None, 64)                4160      \n",
      "_________________________________________________________________\n",
      "dense_8 (Dense)              (None, 3)                 195       \n",
      "=================================================================\n",
      "Total params: 644,419\n",
      "Trainable params: 644,419\n",
      "Non-trainable params: 0\n",
      "_________________________________________________________________\n"
     ]
    }
   ],
   "source": [
    "reg_model = models.Sequential()\n",
    "reg_model.add(layers.Dense(64, kernel_regularizer=regularizers.l2(0.001), activation='relu', input_shape=(NB_WORDS,)))\n",
    "reg_model.add(layers.Dense(64, kernel_regularizer=regularizers.l2(0.001), activation='relu'))\n",
    "reg_model.add(layers.Dense(3, activation='softmax'))\n",
    "reg_model.summary()"
   ]
  },
  {
   "cell_type": "code",
   "execution_count": 64,
   "metadata": {},
   "outputs": [],
   "source": [
    "reg_history = deep_model(reg_model)"
   ]
  },
  {
   "cell_type": "code",
   "execution_count": 65,
   "metadata": {},
   "outputs": [
    {
     "data": {
      "image/png": "[encoded data removed]",
      "text/plain": [
       "<Figure size 432x288 with 1 Axes>"
      ]
     },
     "metadata": {
      "needs_background": "light"
     },
     "output_type": "display_data"
    }
   ],
   "source": [
    "compare_loss_with_baseline(reg_history, 'Regularized Model')"
   ]
  },
  {
   "cell_type": "code",
   "execution_count": 66,
   "metadata": {},
   "outputs": [
    {
     "name": "stdout",
     "output_type": "stream",
     "text": [
      "WARNING:tensorflow:From C:\\Users\\amit.gupta9\\AppData\\Local\\Continuum\\anaconda3\\envs\\img3.6\\lib\\site-packages\\keras\\backend\\tensorflow_backend.py:3445: calling dropout (from tensorflow.python.ops.nn_ops) with keep_prob is deprecated and will be removed in a future version.\n",
      "Instructions for updating:\n",
      "Please use `rate` instead of `keep_prob`. Rate should be set to `rate = 1 - keep_prob`.\n",
      "_________________________________________________________________\n",
      "Layer (type)                 Output Shape              Param #   \n",
      "=================================================================\n",
      "dense_9 (Dense)              (None, 64)                640064    \n",
      "_________________________________________________________________\n",
      "dropout_1 (Dropout)          (None, 64)                0         \n",
      "_________________________________________________________________\n",
      "dense_10 (Dense)             (None, 64)                4160      \n",
      "_________________________________________________________________\n",
      "dropout_2 (Dropout)          (None, 64)                0         \n",
      "_________________________________________________________________\n",
      "dense_11 (Dense)             (None, 3)                 195       \n",
      "=================================================================\n",
      "Total params: 644,419\n",
      "Trainable params: 644,419\n",
      "Non-trainable params: 0\n",
      "_________________________________________________________________\n"
     ]
    }
   ],
   "source": [
    "drop_model = models.Sequential()\n",
    "drop_model.add(layers.Dense(64, activation='relu', input_shape=(NB_WORDS,)))\n",
    "drop_model.add(layers.Dropout(0.5))\n",
    "drop_model.add(layers.Dense(64, activation='relu'))\n",
    "drop_model.add(layers.Dropout(0.5))\n",
    "drop_model.add(layers.Dense(3, activation='softmax'))\n",
    "drop_model.summary()"
   ]
  },
  {
   "cell_type": "code",
   "execution_count": 67,
   "metadata": {},
   "outputs": [],
   "source": [
    "drop_history = deep_model(drop_model)"
   ]
  },
  {
   "cell_type": "code",
   "execution_count": 68,
   "metadata": {},
   "outputs": [
    {
     "data": {
      "image/png": "[encoded data removed]",
      "text/plain": [
       "<Figure size 432x288 with 1 Axes>"
      ]
     },
     "metadata": {
      "needs_background": "light"
     },
     "output_type": "display_data"
    }
   ],
   "source": [
    "compare_loss_with_baseline(drop_history, 'Dropout Model')"
   ]
  },
  {
   "cell_type": "code",
   "execution_count": 69,
   "metadata": {},
   "outputs": [],
   "source": [
    "def test_model(model, epoch_stop):\n",
    "    model.fit(X_train_oh\n",
    "              , y_train_oh\n",
    "              , epochs=epoch_stop\n",
    "              , batch_size=BATCH_SIZE\n",
    "              , verbose=0)\n",
    "    results = model.evaluate(X_test_oh, y_test_oh)\n",
    "    \n",
    "    return results"
   ]
  },
  {
   "cell_type": "code",
   "execution_count": 70,
   "metadata": {},
   "outputs": [
    {
     "name": "stdout",
     "output_type": "stream",
     "text": [
      "1464/1464 [==============================] - 0s 148us/step\n",
      "/n\n",
      "Test accuracy of baseline model: 77.05%\n"
     ]
    }
   ],
   "source": [
    "base_results = test_model(base_model, 4)\n",
    "print('/n')\n",
    "print('Test accuracy of baseline model: {0:.2f}%'.format(base_results[1]*100))"
   ]
  },
  {
   "cell_type": "code",
   "execution_count": 71,
   "metadata": {},
   "outputs": [
    {
     "name": "stdout",
     "output_type": "stream",
     "text": [
      "1464/1464 [==============================] - 0s 99us/step\n",
      "/n\n",
      "Test accuracy of reduced model: 78.35%\n"
     ]
    }
   ],
   "source": [
    "reduced_results = test_model(reduced_model, 10)\n",
    "print('/n')\n",
    "print('Test accuracy of reduced model: {0:.2f}%'.format(reduced_results[1]*100))"
   ]
  },
  {
   "cell_type": "code",
   "execution_count": 72,
   "metadata": {},
   "outputs": [
    {
     "name": "stdout",
     "output_type": "stream",
     "text": [
      "1464/1464 [==============================] - 0s 122us/step\n",
      "/n\n",
      "Test accuracy of regularized model: 76.50%\n"
     ]
    }
   ],
   "source": [
    "reg_results = test_model(reg_model, 5)\n",
    "print('/n')\n",
    "print('Test accuracy of regularized model: {0:.2f}%'.format(reg_results[1]*100))"
   ]
  },
  {
   "cell_type": "code",
   "execution_count": 73,
   "metadata": {},
   "outputs": [
    {
     "name": "stdout",
     "output_type": "stream",
     "text": [
      "1464/1464 [==============================] - 0s 115us/step\n",
      "/n\n",
      "Test accuracy of dropout model: 78.07%\n"
     ]
    }
   ],
   "source": [
    "drop_results = test_model(drop_model, 6)\n",
    "print('/n')\n",
    "print('Test accuracy of dropout model: {0:.2f}%'.format(drop_results[1]*100))"
   ]
  },
  {
   "cell_type": "code",
   "execution_count": 103,
   "metadata": {},
   "outputs": [],
   "source": [
    "# CNN Model\n",
    "from keras.models import Sequential\n",
    "from keras.layers import Conv1D, Conv2D, Convolution1D, MaxPooling1D, SeparableConv1D, SpatialDropout1D, \\\n",
    "    GlobalAvgPool1D, GlobalMaxPool1D, GlobalMaxPooling1D \n",
    "from keras.layers.pooling import _GlobalPooling1D\n",
    "from keras.layers import MaxPooling2D, GlobalMaxPooling2D, GlobalAveragePooling2D\n",
    "from keras.layers import Embedding\n",
    "from keras.layers import MaxPooling3D, GlobalMaxPooling3D, GlobalAveragePooling3D\n",
    "from keras.layers import Input, Add, concatenate, Dense, Activation, BatchNormalization, Dropout, Flatten\n",
    "import time\n",
    "import datetime\n",
    "\n",
    "max_words = 1000\n",
    "max_len = 150\n",
    "\n",
    "def get_cnn_model(num_class=2):   \n",
    "    model = Sequential()\n",
    "    \n",
    "    model.add(Embedding(max_words, 100, input_length=max_len))\n",
    "    \n",
    "    model.add(Conv1D(1024, 3, padding='valid', activation='relu', strides=1))\n",
    "    model.add(GlobalMaxPooling1D())\n",
    "    \n",
    "    \n",
    "    model.add(Dropout(0.5))\n",
    "    model.add(BatchNormalization())\n",
    "    model.add(Dropout(0.5))\n",
    "    \n",
    "    model.add(Dense(2048, activation='relu'))\n",
    "    \n",
    "    model.add(Dropout(0.5))\n",
    "    model.add(BatchNormalization())\n",
    "    model.add(Dropout(0.5))\n",
    "    \n",
    "    if num_class>2:\n",
    "        model.add(Dense(num_class, activation='softmax'))\n",
    "    else:\n",
    "        model.add(Dense(1, activation='sigmoid'))\n",
    "    \n",
    "    model.summary()\n",
    "    return model"
   ]
  },
  {
   "cell_type": "code",
   "execution_count": 104,
   "metadata": {},
   "outputs": [
    {
     "name": "stdout",
     "output_type": "stream",
     "text": [
      "_________________________________________________________________\n",
      "Layer (type)                 Output Shape              Param #   \n",
      "=================================================================\n",
      "embedding_3 (Embedding)      (None, 150, 100)          100000    \n",
      "_________________________________________________________________\n",
      "conv1d_3 (Conv1D)            (None, 148, 1024)         308224    \n",
      "_________________________________________________________________\n",
      "global_max_pooling1d_3 (Glob (None, 1024)              0         \n",
      "_________________________________________________________________\n",
      "dropout_7 (Dropout)          (None, 1024)              0         \n",
      "_________________________________________________________________\n",
      "batch_normalization_3 (Batch (None, 1024)              4096      \n",
      "_________________________________________________________________\n",
      "dropout_8 (Dropout)          (None, 1024)              0         \n",
      "_________________________________________________________________\n",
      "dense_14 (Dense)             (None, 2048)              2099200   \n",
      "_________________________________________________________________\n",
      "dropout_9 (Dropout)          (None, 2048)              0         \n",
      "_________________________________________________________________\n",
      "batch_normalization_4 (Batch (None, 2048)              8192      \n",
      "_________________________________________________________________\n",
      "dropout_10 (Dropout)         (None, 2048)              0         \n",
      "_________________________________________________________________\n",
      "dense_15 (Dense)             (None, 3)                 6147      \n",
      "=================================================================\n",
      "Total params: 2,525,859\n",
      "Trainable params: 2,519,715\n",
      "Non-trainable params: 6,144\n",
      "_________________________________________________________________\n"
     ]
    }
   ],
   "source": [
    "num_class = 3\n",
    "model2 = get_cnn_model(num_class=num_class)"
   ]
  },
  {
   "cell_type": "code",
   "execution_count": 105,
   "metadata": {},
   "outputs": [],
   "source": [
    "# print date and time for given type of representation\n",
    "def date_time(x):\n",
    "    if x==1:\n",
    "        return 'Timestamp: {:%Y-%m-%d %H:%M:%S}'.format(datetime.datetime.now())\n",
    "    if x==2:    \n",
    "        return 'Timestamp: {:%Y-%b-%d %H:%M:%S}'.format(datetime.datetime.now())\n",
    "    if x==3:  \n",
    "        return 'Date now: %s' % datetime.datetime.now()\n",
    "    if x==4:  \n",
    "        return 'Date today: %s' % datetime.date.today() "
   ]
  },
  {
   "cell_type": "code",
   "execution_count": 120,
   "metadata": {},
   "outputs": [],
   "source": [
    "Y = df.airline_sentiment\n",
    "label_encoder = LabelEncoder()\n",
    "Y = label_encoder.fit_transform(Y)\n",
    "Y = to_categorical(Y)"
   ]
  },
  {
   "cell_type": "code",
   "execution_count": 122,
   "metadata": {},
   "outputs": [],
   "source": [
    "X_train, X_test, Y_train, Y_test = train_test_split(df.text, Y, test_size=0.15)"
   ]
  },
  {
   "cell_type": "code",
   "execution_count": 123,
   "metadata": {},
   "outputs": [],
   "source": [
    "tokenizer = Tokenizer(num_words=max_words)\n",
    "\n",
    "tokenizer.fit_on_texts(X_train)\n",
    "\n",
    "X_train_seq = tokenizer.texts_to_sequences(X_train)\n",
    "X_train_seq = sequence.pad_sequences(X_train_seq, maxlen=max_len)"
   ]
  },
  {
   "cell_type": "code",
   "execution_count": 124,
   "metadata": {},
   "outputs": [
    {
     "name": "stdout",
     "output_type": "stream",
     "text": [
      "Starting...\n",
      "\n",
      "Timestamp: 2019-06-19 17:11:08\n",
      "\n",
      "\n",
      "Compliling Model ...\n",
      "\n",
      "Training Model ...\n",
      "\n",
      "WARNING:tensorflow:From C:\\Users\\amit.gupta9\\AppData\\Local\\Continuum\\anaconda3\\envs\\img3.6\\lib\\site-packages\\tensorflow\\python\\ops\\math_grad.py:102: div (from tensorflow.python.ops.math_ops) is deprecated and will be removed in a future version.\n",
      "Instructions for updating:\n",
      "Deprecated in favor of operator or tf.math.divide.\n",
      "Train on 9955 samples, validate on 2489 samples\n",
      "Epoch 1/100\n",
      "9955/9955 [==============================] - 36s 4ms/step - loss: 1.3636 - acc: 0.5435 - val_loss: 0.6617 - val_acc: 0.7107\n",
      "Epoch 2/100\n",
      "9955/9955 [==============================] - 35s 4ms/step - loss: 0.8374 - acc: 0.6874 - val_loss: 0.5964 - val_acc: 0.7618\n",
      "Epoch 3/100\n",
      "9955/9955 [==============================] - 35s 4ms/step - loss: 0.6685 - acc: 0.7358 - val_loss: 0.5726 - val_acc: 0.7762\n",
      "Epoch 4/100\n",
      "9955/9955 [==============================] - 34s 3ms/step - loss: 0.5739 - acc: 0.7728 - val_loss: 0.5636 - val_acc: 0.7754\n",
      "Epoch 5/100\n",
      "9955/9955 [==============================] - 35s 3ms/step - loss: 0.5228 - acc: 0.7921 - val_loss: 0.5669 - val_acc: 0.7702\n",
      "Epoch 6/100\n",
      "9955/9955 [==============================] - 34s 3ms/step - loss: 0.4909 - acc: 0.8050 - val_loss: 0.6096 - val_acc: 0.7517\n",
      "Epoch 7/100\n",
      "9955/9955 [==============================] - 34s 3ms/step - loss: 0.4600 - acc: 0.8196 - val_loss: 0.5850 - val_acc: 0.7702\n",
      "Epoch 8/100\n",
      "9955/9955 [==============================] - 34s 3ms/step - loss: 0.4345 - acc: 0.8261 - val_loss: 0.6037 - val_acc: 0.7678\n",
      "Epoch 9/100\n",
      "9955/9955 [==============================] - 34s 3ms/step - loss: 0.3984 - acc: 0.8435 - val_loss: 0.6232 - val_acc: 0.7682\n",
      "Epoch 10/100\n",
      "9955/9955 [==============================] - 35s 3ms/step - loss: 0.3704 - acc: 0.8543 - val_loss: 0.6684 - val_acc: 0.7569\n",
      "Epoch 11/100\n",
      "9955/9955 [==============================] - 35s 3ms/step - loss: 0.3537 - acc: 0.8586 - val_loss: 0.6818 - val_acc: 0.7638\n",
      "Epoch 12/100\n",
      "9955/9955 [==============================] - 36s 4ms/step - loss: 0.3201 - acc: 0.8774 - val_loss: 0.7217 - val_acc: 0.7605\n",
      "Epoch 13/100\n",
      "9955/9955 [==============================] - 36s 4ms/step - loss: 0.3032 - acc: 0.8808 - val_loss: 0.7367 - val_acc: 0.7589\n",
      "Epoch 14/100\n",
      "9955/9955 [==============================] - 35s 4ms/step - loss: 0.2937 - acc: 0.8858 - val_loss: 0.7650 - val_acc: 0.7541\n",
      "Epoch 15/100\n",
      "9955/9955 [==============================] - 34s 3ms/step - loss: 0.2612 - acc: 0.9011 - val_loss: 0.8085 - val_acc: 0.7521\n",
      "Epoch 16/100\n",
      "9955/9955 [==============================] - 34s 3ms/step - loss: 0.2500 - acc: 0.9032 - val_loss: 0.8166 - val_acc: 0.7493\n",
      "Epoch 17/100\n",
      "9955/9955 [==============================] - 34s 3ms/step - loss: 0.2481 - acc: 0.9037 - val_loss: 0.9050 - val_acc: 0.7509\n",
      "Epoch 18/100\n",
      "9955/9955 [==============================] - 34s 3ms/step - loss: 0.2214 - acc: 0.9169 - val_loss: 0.8981 - val_acc: 0.7646\n",
      "Epoch 19/100\n",
      "9955/9955 [==============================] - 34s 3ms/step - loss: 0.2188 - acc: 0.9180 - val_loss: 0.9447 - val_acc: 0.7553\n",
      "Epoch 20/100\n",
      "9955/9955 [==============================] - 34s 3ms/step - loss: 0.2076 - acc: 0.9190 - val_loss: 0.9529 - val_acc: 0.7561\n",
      "Epoch 21/100\n",
      "9955/9955 [==============================] - 34s 3ms/step - loss: 0.1953 - acc: 0.9263 - val_loss: 0.9800 - val_acc: 0.7581\n",
      "Epoch 22/100\n",
      "9955/9955 [==============================] - 35s 3ms/step - loss: 0.1942 - acc: 0.9259 - val_loss: 1.0063 - val_acc: 0.7513\n",
      "Epoch 23/100\n",
      "9955/9955 [==============================] - 34s 3ms/step - loss: 0.1807 - acc: 0.9313 - val_loss: 1.0177 - val_acc: 0.7589\n",
      "Epoch 24/100\n",
      "9955/9955 [==============================] - 36s 4ms/step - loss: 0.1828 - acc: 0.9340 - val_loss: 1.0129 - val_acc: 0.7549\n",
      "Epoch 25/100\n",
      "9955/9955 [==============================] - 39s 4ms/step - loss: 0.1828 - acc: 0.9313 - val_loss: 1.0412 - val_acc: 0.7569\n",
      "Epoch 26/100\n",
      "9955/9955 [==============================] - 36s 4ms/step - loss: 0.1633 - acc: 0.9370 - val_loss: 1.0454 - val_acc: 0.7545\n",
      "Epoch 27/100\n",
      "9955/9955 [==============================] - 33s 3ms/step - loss: 0.1674 - acc: 0.9355 - val_loss: 1.0769 - val_acc: 0.7593\n",
      "Epoch 28/100\n",
      "9955/9955 [==============================] - 33s 3ms/step - loss: 0.1571 - acc: 0.9399 - val_loss: 1.0883 - val_acc: 0.7605\n",
      "Epoch 29/100\n",
      "9955/9955 [==============================] - 34s 3ms/step - loss: 0.1518 - acc: 0.9418 - val_loss: 1.1214 - val_acc: 0.7553\n",
      "Epoch 30/100\n",
      "9955/9955 [==============================] - 35s 4ms/step - loss: 0.1514 - acc: 0.9449 - val_loss: 1.1522 - val_acc: 0.7517\n",
      "Epoch 31/100\n",
      "9955/9955 [==============================] - 37s 4ms/step - loss: 0.1415 - acc: 0.9457 - val_loss: 1.1512 - val_acc: 0.7449\n",
      "Epoch 32/100\n",
      "9955/9955 [==============================] - 34s 3ms/step - loss: 0.1488 - acc: 0.9449 - val_loss: 1.1566 - val_acc: 0.7577\n",
      "Epoch 33/100\n",
      "9955/9955 [==============================] - 34s 3ms/step - loss: 0.1287 - acc: 0.9498 - val_loss: 1.1948 - val_acc: 0.7626\n",
      "Epoch 34/100\n",
      "9955/9955 [==============================] - 36s 4ms/step - loss: 0.1406 - acc: 0.9459 - val_loss: 1.2004 - val_acc: 0.7493\n",
      "Epoch 35/100\n",
      "9955/9955 [==============================] - 35s 4ms/step - loss: 0.1355 - acc: 0.9484 - val_loss: 1.1809 - val_acc: 0.7549\n",
      "Epoch 36/100\n",
      "9955/9955 [==============================] - 35s 4ms/step - loss: 0.1291 - acc: 0.9528 - val_loss: 1.2196 - val_acc: 0.7525\n",
      "Epoch 37/100\n",
      "9955/9955 [==============================] - 35s 3ms/step - loss: 0.1228 - acc: 0.9540 - val_loss: 1.2427 - val_acc: 0.7501\n",
      "Epoch 38/100\n",
      "9955/9955 [==============================] - 33s 3ms/step - loss: 0.1343 - acc: 0.9521 - val_loss: 1.2325 - val_acc: 0.7469\n",
      "Epoch 39/100\n",
      "9955/9955 [==============================] - 33s 3ms/step - loss: 0.1165 - acc: 0.9555 - val_loss: 1.2545 - val_acc: 0.7513\n",
      "Epoch 40/100\n",
      "9955/9955 [==============================] - 33s 3ms/step - loss: 0.1240 - acc: 0.9570 - val_loss: 1.2621 - val_acc: 0.7437\n",
      "Epoch 41/100\n",
      "9955/9955 [==============================] - 33s 3ms/step - loss: 0.1184 - acc: 0.9553 - val_loss: 1.2513 - val_acc: 0.7537\n",
      "Epoch 42/100\n",
      "9955/9955 [==============================] - 34s 3ms/step - loss: 0.1121 - acc: 0.9609 - val_loss: 1.2875 - val_acc: 0.7477\n",
      "Epoch 43/100\n",
      "9955/9955 [==============================] - 33s 3ms/step - loss: 0.1136 - acc: 0.9585 - val_loss: 1.3070 - val_acc: 0.7525\n",
      "Epoch 44/100\n",
      "9955/9955 [==============================] - 33s 3ms/step - loss: 0.1160 - acc: 0.9590 - val_loss: 1.2767 - val_acc: 0.7481\n",
      "Epoch 45/100\n",
      "9955/9955 [==============================] - 33s 3ms/step - loss: 0.1072 - acc: 0.9618 - val_loss: 1.3098 - val_acc: 0.7501\n",
      "Epoch 46/100\n",
      "9955/9955 [==============================] - 35s 3ms/step - loss: 0.1143 - acc: 0.9581 - val_loss: 1.3122 - val_acc: 0.7618\n",
      "Epoch 47/100\n",
      "9955/9955 [==============================] - 34s 3ms/step - loss: 0.1175 - acc: 0.9568 - val_loss: 1.3025 - val_acc: 0.7545\n",
      "Epoch 48/100\n",
      "9955/9955 [==============================] - 32s 3ms/step - loss: 0.1063 - acc: 0.9595 - val_loss: 1.3412 - val_acc: 0.7517\n",
      "Epoch 49/100\n",
      "9955/9955 [==============================] - 32s 3ms/step - loss: 0.1138 - acc: 0.9596 - val_loss: 1.3854 - val_acc: 0.7457\n",
      "Epoch 50/100\n",
      "9955/9955 [==============================] - 33s 3ms/step - loss: 0.1186 - acc: 0.9579 - val_loss: 1.3340 - val_acc: 0.7581\n",
      "Epoch 51/100\n",
      "9955/9955 [==============================] - 33s 3ms/step - loss: 0.1104 - acc: 0.9585 - val_loss: 1.2988 - val_acc: 0.7445\n",
      "Epoch 52/100\n",
      "9955/9955 [==============================] - 34s 3ms/step - loss: 0.1093 - acc: 0.9588 - val_loss: 1.3543 - val_acc: 0.7613\n",
      "Epoch 53/100\n",
      "9955/9955 [==============================] - 34s 3ms/step - loss: 0.1061 - acc: 0.9612 - val_loss: 1.3384 - val_acc: 0.7513\n",
      "Epoch 54/100\n",
      "9955/9955 [==============================] - 34s 3ms/step - loss: 0.1008 - acc: 0.9650 - val_loss: 1.3563 - val_acc: 0.7445\n",
      "Epoch 55/100\n",
      "9955/9955 [==============================] - 33s 3ms/step - loss: 0.1049 - acc: 0.9629 - val_loss: 1.3839 - val_acc: 0.7541\n",
      "Epoch 56/100\n",
      "9955/9955 [==============================] - 34s 3ms/step - loss: 0.1070 - acc: 0.9613 - val_loss: 1.3634 - val_acc: 0.7469\n",
      "Epoch 57/100\n"
     ]
    },
    {
     "name": "stdout",
     "output_type": "stream",
     "text": [
      "9955/9955 [==============================] - 35s 4ms/step - loss: 0.0935 - acc: 0.9661 - val_loss: 1.3453 - val_acc: 0.7473\n",
      "Epoch 58/100\n",
      "9955/9955 [==============================] - 33s 3ms/step - loss: 0.0954 - acc: 0.9664 - val_loss: 1.3570 - val_acc: 0.7469\n",
      "Epoch 59/100\n",
      "9955/9955 [==============================] - 33s 3ms/step - loss: 0.0947 - acc: 0.9658 - val_loss: 1.3634 - val_acc: 0.7505\n",
      "Epoch 60/100\n",
      "9955/9955 [==============================] - 33s 3ms/step - loss: 0.0949 - acc: 0.9644 - val_loss: 1.4290 - val_acc: 0.7389\n",
      "Epoch 61/100\n",
      "9955/9955 [==============================] - 34s 3ms/step - loss: 0.0930 - acc: 0.9684 - val_loss: 1.4324 - val_acc: 0.7429\n",
      "Epoch 62/100\n",
      "9955/9955 [==============================] - 33s 3ms/step - loss: 0.0951 - acc: 0.9641 - val_loss: 1.4179 - val_acc: 0.7465\n",
      "Epoch 63/100\n",
      "9955/9955 [==============================] - 32s 3ms/step - loss: 0.0850 - acc: 0.9683 - val_loss: 1.4330 - val_acc: 0.7529\n",
      "Epoch 64/100\n",
      "9955/9955 [==============================] - 34s 3ms/step - loss: 0.0951 - acc: 0.9655 - val_loss: 1.4028 - val_acc: 0.7437\n",
      "Epoch 65/100\n",
      "9955/9955 [==============================] - 33s 3ms/step - loss: 0.0940 - acc: 0.9649 - val_loss: 1.4507 - val_acc: 0.7549\n",
      "Epoch 66/100\n",
      "9955/9955 [==============================] - 33s 3ms/step - loss: 0.0921 - acc: 0.9676 - val_loss: 1.4772 - val_acc: 0.7553\n",
      "Epoch 67/100\n",
      "9955/9955 [==============================] - 33s 3ms/step - loss: 0.0989 - acc: 0.9669 - val_loss: 1.4495 - val_acc: 0.7493\n",
      "Epoch 68/100\n",
      "9955/9955 [==============================] - 33s 3ms/step - loss: 0.0925 - acc: 0.9674 - val_loss: 1.4654 - val_acc: 0.7577\n",
      "Epoch 69/100\n",
      "9955/9955 [==============================] - 32s 3ms/step - loss: 0.0984 - acc: 0.9638 - val_loss: 1.4442 - val_acc: 0.7613\n",
      "Epoch 70/100\n",
      "9955/9955 [==============================] - 34s 3ms/step - loss: 0.0870 - acc: 0.9674 - val_loss: 1.4596 - val_acc: 0.7449\n",
      "Epoch 71/100\n",
      "9955/9955 [==============================] - 34s 3ms/step - loss: 0.0910 - acc: 0.9671 - val_loss: 1.4484 - val_acc: 0.7541\n",
      "Epoch 72/100\n",
      "9955/9955 [==============================] - 33s 3ms/step - loss: 0.0903 - acc: 0.9671 - val_loss: 1.4695 - val_acc: 0.7433\n",
      "Epoch 73/100\n",
      "9955/9955 [==============================] - 33s 3ms/step - loss: 0.0946 - acc: 0.9654 - val_loss: 1.4919 - val_acc: 0.7413\n",
      "Epoch 74/100\n",
      "9955/9955 [==============================] - 33s 3ms/step - loss: 0.0965 - acc: 0.9638 - val_loss: 1.5096 - val_acc: 0.7513\n",
      "Epoch 75/100\n",
      "9955/9955 [==============================] - 33s 3ms/step - loss: 0.0891 - acc: 0.9681 - val_loss: 1.4948 - val_acc: 0.7529\n",
      "Epoch 76/100\n",
      "9955/9955 [==============================] - 34s 3ms/step - loss: 0.0883 - acc: 0.9695 - val_loss: 1.4706 - val_acc: 0.7417\n",
      "Epoch 77/100\n",
      "9955/9955 [==============================] - 32s 3ms/step - loss: 0.0829 - acc: 0.9700 - val_loss: 1.4974 - val_acc: 0.7493\n",
      "Epoch 78/100\n",
      "9955/9955 [==============================] - 33s 3ms/step - loss: 0.0857 - acc: 0.9698 - val_loss: 1.5340 - val_acc: 0.7413\n",
      "Epoch 79/100\n",
      "9955/9955 [==============================] - 34s 3ms/step - loss: 0.0881 - acc: 0.9677 - val_loss: 1.4717 - val_acc: 0.7453\n",
      "Epoch 80/100\n",
      "9955/9955 [==============================] - 34s 3ms/step - loss: 0.0859 - acc: 0.9689 - val_loss: 1.5308 - val_acc: 0.7352\n",
      "Epoch 81/100\n",
      "9955/9955 [==============================] - 34s 3ms/step - loss: 0.0878 - acc: 0.9678 - val_loss: 1.5006 - val_acc: 0.7513\n",
      "Epoch 82/100\n",
      "9955/9955 [==============================] - 33s 3ms/step - loss: 0.0873 - acc: 0.9690 - val_loss: 1.4927 - val_acc: 0.7465\n",
      "Epoch 83/100\n",
      "9955/9955 [==============================] - 33s 3ms/step - loss: 0.0804 - acc: 0.9708 - val_loss: 1.5610 - val_acc: 0.7453\n",
      "Epoch 84/100\n",
      "9955/9955 [==============================] - 33s 3ms/step - loss: 0.0830 - acc: 0.9701 - val_loss: 1.5324 - val_acc: 0.7413\n",
      "Epoch 85/100\n",
      "9955/9955 [==============================] - 33s 3ms/step - loss: 0.0787 - acc: 0.9698 - val_loss: 1.5482 - val_acc: 0.7457\n",
      "Epoch 86/100\n",
      "9955/9955 [==============================] - 34s 3ms/step - loss: 0.0710 - acc: 0.9735 - val_loss: 1.5508 - val_acc: 0.7384\n",
      "Epoch 87/100\n",
      "9955/9955 [==============================] - 34s 3ms/step - loss: 0.0820 - acc: 0.9707 - val_loss: 1.5606 - val_acc: 0.7437\n",
      "Epoch 88/100\n",
      "9955/9955 [==============================] - 34s 3ms/step - loss: 0.0760 - acc: 0.9709 - val_loss: 1.5356 - val_acc: 0.7405\n",
      "Epoch 89/100\n",
      "9955/9955 [==============================] - 33s 3ms/step - loss: 0.0817 - acc: 0.9696 - val_loss: 1.6339 - val_acc: 0.7449\n",
      "Epoch 90/100\n",
      "9955/9955 [==============================] - 33s 3ms/step - loss: 0.0777 - acc: 0.9738 - val_loss: 1.6511 - val_acc: 0.7389\n",
      "Epoch 91/100\n",
      "9955/9955 [==============================] - 33s 3ms/step - loss: 0.0843 - acc: 0.9706 - val_loss: 1.6193 - val_acc: 0.7348\n",
      "Epoch 92/100\n",
      "9955/9955 [==============================] - 34s 3ms/step - loss: 0.0867 - acc: 0.9695 - val_loss: 1.5604 - val_acc: 0.7509\n",
      "Epoch 93/100\n",
      "9955/9955 [==============================] - 33s 3ms/step - loss: 0.0738 - acc: 0.9732 - val_loss: 1.6542 - val_acc: 0.7561\n",
      "Epoch 94/100\n",
      "9955/9955 [==============================] - 33s 3ms/step - loss: 0.0810 - acc: 0.9706 - val_loss: 1.6447 - val_acc: 0.7429\n",
      "Epoch 95/100\n",
      "9955/9955 [==============================] - 34s 3ms/step - loss: 0.0849 - acc: 0.9702 - val_loss: 1.6044 - val_acc: 0.7469\n",
      "Epoch 96/100\n",
      "9955/9955 [==============================] - 33s 3ms/step - loss: 0.0793 - acc: 0.9704 - val_loss: 1.5705 - val_acc: 0.7356\n",
      "Epoch 97/100\n",
      "9955/9955 [==============================] - 33s 3ms/step - loss: 0.0798 - acc: 0.9692 - val_loss: 1.5668 - val_acc: 0.7401\n",
      "Epoch 98/100\n",
      "9955/9955 [==============================] - 33s 3ms/step - loss: 0.0876 - acc: 0.9706 - val_loss: 1.5672 - val_acc: 0.7376\n",
      "Epoch 99/100\n",
      "9955/9955 [==============================] - 34s 3ms/step - loss: 0.0825 - acc: 0.9700 - val_loss: 1.5723 - val_acc: 0.7409\n",
      "Epoch 100/100\n",
      "9955/9955 [==============================] - 34s 3ms/step - loss: 0.0787 - acc: 0.9707 - val_loss: 1.6068 - val_acc: 0.7413\n",
      "\n",
      "Elapsed Time: 00:56:24\n",
      "Completed Model Trainning Timestamp: 2019-06-19 18:07:32\n"
     ]
    }
   ],
   "source": [
    "from keras.optimizers import RMSprop, Adam\n",
    "print(\"Starting...\\n\")\n",
    "\n",
    "start_time = time.time()\n",
    "print(date_time(1))\n",
    "\n",
    "print(\"\\n\\nCompliling Model ...\\n\")\n",
    "learning_rate = 0.001\n",
    "optimizer = Adam(learning_rate)\n",
    "# optimizer = Adam()\n",
    "\n",
    "model2.compile(optimizer=optimizer, loss='categorical_crossentropy', metrics=['accuracy'])\n",
    "\n",
    "verbose = 1\n",
    "epochs = 100\n",
    "batch_size = 128\n",
    "validation_split = 0.2\n",
    "\n",
    "print(\"Training Model ...\\n\")\n",
    "\n",
    "history2 = model2.fit(\n",
    "    X_train_seq,\n",
    "    Y_train,\n",
    "    batch_size=batch_size,\n",
    "    epochs=epochs,\n",
    "    verbose=verbose,\n",
    "    validation_split=validation_split\n",
    "    )\n",
    "\n",
    "elapsed_time = time.time() - start_time\n",
    "elapsed_time = time.strftime(\"%H:%M:%S\", time.gmtime(elapsed_time))\n",
    "\n",
    "print(\"\\nElapsed Time: \" + elapsed_time)\n",
    "print(\"Completed Model Trainning\", date_time(1))"
   ]
  },
  {
   "cell_type": "code",
   "execution_count": null,
   "metadata": {},
   "outputs": [],
   "source": []
  },
  {
   "cell_type": "code",
   "execution_count": null,
   "metadata": {},
   "outputs": [],
   "source": []
  },
  {
   "cell_type": "code",
   "execution_count": null,
   "metadata": {},
   "outputs": [],
   "source": []
  }
 ],
 "metadata": {
  "kernelspec": {
   "display_name": "img3.6",
   "language": "python",
   "name": "img3.6"
  },
  "language_info": {
   "codemirror_mode": {
    "name": "ipython",
    "version": 3
   },
   "file_extension": ".py",
   "mimetype": "text/x-python",
   "name": "python",
   "nbconvert_exporter": "python",
   "pygments_lexer": "ipython3",
   "version": "3.6.1"
  }
 },
 "nbformat": 4,
 "nbformat_minor": 2
}
